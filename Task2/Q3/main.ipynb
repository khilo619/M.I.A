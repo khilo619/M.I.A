{
 "cells": [
  {
   "cell_type": "code",
   "execution_count": 1,
   "id": "bfa3cfb5",
   "metadata": {},
   "outputs": [],
   "source": [
    "import pandas as pd\n",
    "import numpy as np\n",
    "import matplotlib.pyplot as plt\n",
    "import seaborn as sns"
   ]
  },
  {
   "cell_type": "code",
   "execution_count": 3,
   "id": "674bfecb",
   "metadata": {},
   "outputs": [
    {
     "name": "stdout",
     "output_type": "stream",
     "text": [
      "Driver and Teams:\n",
      "Hassan: [9 8 7 6 7 8 6]\n",
      "Red Bull: [10  9  6  7  6  9  5]\n",
      "Ferrari: [9 7 6 6 7 7 5]\n",
      "Mercedes: [8 6 8 9 9 5 9]\n"
     ]
    }
   ],
   "source": [
    "hassan   =   np.array([9, 8, 7, 6, 7, 8, 6])\n",
    "red_bull =   np.array([10, 9, 6, 7, 6, 9, 5])\n",
    "ferrari  =   np.array([9, 7, 6, 6, 7, 7, 5])\n",
    "mercedes =   np.array([8, 6, 8, 9, 9, 5, 9])\n",
    "\n",
    "teams = {\n",
    "    'Red_bull': red_bull,\n",
    "    'Ferrari': ferrari,\n",
    "    'Mercedes': mercedes \n",
    "}\n",
    "\n",
    "\n",
    "print(\"Driver and Teams:\")\n",
    "print(f\"Hassan: {hassan}\")\n",
    "print(f\"Red Bull: {teams['Red_bull']}\")\n",
    "print(f\"Ferrari: {teams['Ferrari']}\")\n",
    "print(f\"Mercedes: {teams['Mercedes']}\")"
   ]
  },
  {
   "cell_type": "code",
   "execution_count": 5,
   "id": "28e9b3d5",
   "metadata": {},
   "outputs": [
    {
     "name": "stdout",
     "output_type": "stream",
     "text": [
      "Similarity between Hassan and Red_bull: 0.9917790279239155\n",
      "\n",
      "Similarity between Hassan and Ferrari: 0.9972562318087912\n",
      "\n",
      "Similarity between Hassan and Mercedes: 0.9564218442002067\n",
      "\n",
      "Best team for Hasssan: Ferrari\n"
     ]
    }
   ],
   "source": [
    "from scipy.spatial.distance import cosine\n",
    "from scipy.stats import pearsonr\n",
    "\n",
    "#cosine similarity\n",
    "def cosine_similarity(v1, v2):\n",
    "    \"\"\"\n",
    "        getting the similarity between two vectors by calculating thier\n",
    "        dot product divided by the mult. of their magnitudes.\n",
    "        1 ==> exactly the same direction [cosine(0)]\n",
    "        0 ==> no similarity at all (perpindicular) [cosine[90]]\n",
    "       -1 ==> oppoiste direction[(cosine(180)]\n",
    "    \"\"\"\n",
    "    return 1 - cosine(v1, v2)\n",
    "\n",
    "cosine_res = {}\n",
    "for name, profile in teams.items():\n",
    "    sim = cosine_similarity(hassan, profile)\n",
    "    cosine_res[name] = sim\n",
    "    print(f\"Similarity between Hassan and {name}: {sim}\\n\")\n",
    "\n",
    "#best team for hassan?\n",
    "best_team_cos = max(cosine_res, key = cosine_res.get)\n",
    "print(f\"Best team for Hasssan: {best_team_cos}\")"
   ]
  },
  {
   "cell_type": "code",
   "execution_count": 8,
   "id": "bc9b3202",
   "metadata": {},
   "outputs": [
    {
     "name": "stdout",
     "output_type": "stream",
     "text": [
      "Similarity between Hassan and Red_bull: 0.27429188517743175\n",
      "\n",
      "Similarity between Hassan and Ferrari: 0.3333333333333333\n",
      "\n",
      "Similarity between Hassan and Mercedes: 0.14118784806383944\n",
      "\n",
      "Best team for Hasssan: Ferrari\n"
     ]
    }
   ],
   "source": [
    "from scipy.spatial.distance import euclidean\n",
    "\n",
    "def euclidean_similarity(v1, v2):\n",
    "    \"\"\"\n",
    "        after getting the raw distance ==> 0 perfect similarity\n",
    "        we should put it in a formula that make it inverse\n",
    "\n",
    "        1==> perfect similarity and less values mean worst sim.\n",
    "\n",
    "        that formula is 1/(1+d)\n",
    "    \"\"\"\n",
    "\n",
    "    return 1 / (1 + euclidean(v1,v2))\n",
    "\n",
    "\n",
    "euc_res = {}\n",
    "for name, profile in teams.items():\n",
    "    sim = euclidean_similarity(hassan, profile)\n",
    "    euc_res[name] = sim\n",
    "    print(f\"Similarity between Hassan and {name}: {sim}\\n\")\n",
    "\n",
    "#best team for hassan?\n",
    "best_team_euc = max(euc_res, key = euc_res.get)\n",
    "print(f\"Best team for Hasssan: {best_team_euc}\")"
   ]
  },
  {
   "cell_type": "code",
   "execution_count": 9,
   "id": "65db316b",
   "metadata": {},
   "outputs": [
    {
     "name": "stdout",
     "output_type": "stream",
     "text": [
      "Similarity between Hassan and Red_bull: 0.125\n",
      "\n",
      "Similarity between Hassan and Ferrari: 0.2\n",
      "\n",
      "Similarity between Hassan and Mercedes: 0.0625\n",
      "\n",
      "Best team for Hasssan: Ferrari\n"
     ]
    }
   ],
   "source": [
    "from scipy.spatial.distance import cityblock\n",
    "#cityblock is another name for the manhattan\n",
    "\n",
    "def manhattan_similarity(v1, v2):\n",
    "    \"\"\"\n",
    "        after getting the raw distance ==> 0 perfect similarity\n",
    "        we should put it in a formula that make it inverse\n",
    "\n",
    "        1==> perfect similarity and less values mean worst sim.\n",
    "\n",
    "        that formula is 1/(1+d),\n",
    "\n",
    "        the difference between it and the euclidean is that the manhattan\n",
    "        computes the sum of the absolute differences while the euclidean square them and taking the square root\n",
    "    \"\"\"\n",
    "\n",
    "    return 1 / (1 + cityblock(v1,v2))\n",
    "\n",
    "\n",
    "man_res = {}\n",
    "for name, profile in teams.items():\n",
    "    sim = manhattan_similarity(hassan, profile)\n",
    "    man_res[name] = sim\n",
    "    print(f\"Similarity between Hassan and {name}: {sim}\\n\")\n",
    "\n",
    "#best team for hassan?\n",
    "best_team_man = max(man_res, key = man_res.get)\n",
    "print(f\"Best team for Hasssan: {best_team_man}\")"
   ]
  },
  {
   "cell_type": "markdown",
   "id": "03932fcf",
   "metadata": {},
   "source": [
    "Now for the final comparison and the best desicion for Hassan"
   ]
  },
  {
   "cell_type": "code",
   "execution_count": 18,
   "id": "9f2e9813",
   "metadata": {},
   "outputs": [
    {
     "name": "stdout",
     "output_type": "stream",
     "text": [
      "======================================================================\n",
      "SIMILARITY ANALYSIS - HASSAN'S TEAM COMPATIBILITY\n",
      "======================================================================\n",
      "SIMILARITY SCORES:\n",
      "--------------------------------------------------\n",
      "Method               Red Bull     Ferrari      Mercedes    \n",
      "--------------------------------------------------\n",
      "Cosine_sim           0.9918       0.9973       0.9564      \n",
      "Euclidean_sim        0.2743       0.3333       0.1412      \n",
      "Manhattan_sim        0.1250       0.2000       0.0625      \n",
      "--------------------------------------------------\n",
      "BEST TEAM USING EVERY METHOD:\n",
      "Cosine_sim          : Ferrari (Score: 0.9973)\n",
      "Euclidean_sim       : Ferrari (Score: 0.3333)\n",
      "Manhattan_sim       : Ferrari (Score: 0.2000)\n",
      "AVERAGE SCORES:\n",
      "Red_bull    : 0.4637\n",
      "Ferrari     : 0.5102\n",
      "Mercedes    : 0.3867\n",
      "\n",
      "======================================================================\n",
      "FINAL RECOMMENDATION\n",
      "======================================================================\n",
      "Best Team for Hassan: Ferrari\n",
      "Average Compatibility Score: 0.5102\n"
     ]
    }
   ],
   "source": [
    "print(\"=\"*70)\n",
    "print(\"SIMILARITY ANALYSIS - HASSAN'S TEAM COMPATIBILITY\")\n",
    "print(\"=\"*70)\n",
    "\n",
    "final_results = {\n",
    "    'Cosine_sim': cosine_res,\n",
    "    'Euclidean_sim': euc_res,\n",
    "    'Manhattan_sim': man_res\n",
    "}\n",
    "\n",
    "print(\"SIMILARITY SCORES:\")\n",
    "print(\"-\" * 50)\n",
    "print(f\"{'Method':<20} {'Red Bull':<12} {'Ferrari':<12} {'Mercedes':<12}\")\n",
    "print(\"-\" * 50)\n",
    "\n",
    "for method_name, results in final_results.items():\n",
    "    print(f\"{method_name:<20} {results['Red_bull']:<12.4f} {results['Ferrari']:<12.4f} {results['Mercedes']:<12.4f}\")\n",
    "\n",
    "print(\"-\" * 50)\n",
    "\n",
    "print(\"BEST TEAM USING EVERY METHOD:\")\n",
    "best_team = {}\n",
    "for method_name, results in final_results.items():\n",
    "    team = max(results, key=results.get)\n",
    "    score = results[team]\n",
    "    best_team[method_name] = (team, score)\n",
    "    print(f\"{method_name:<20}: {team} (Score: {score:.4f})\")\n",
    "\n",
    "print(\"AVERAGE SCORES:\")\n",
    "team_avg = {}\n",
    "for team in teams.keys():\n",
    "    avg_score = np.mean([res[team] for res in final_results.values()])\n",
    "    team_avg[team] = avg_score\n",
    "    print(f\"{team:<12}: {avg_score:.4f}\")\n",
    "\n",
    "winner = max(team_avg, key=team_avg.get)\n",
    "winner_score = team_avg[winner]\n",
    "\n",
    "print(\"\\n\" + \"=\"*70)\n",
    "print(\"FINAL RECOMMENDATION\")\n",
    "print(\"=\"*70)\n",
    "print(f\"Best Team for Hassan: {winner}\")\n",
    "print(f\"Average Compatibility Score: {winner_score:.4f}\")"
   ]
  }
 ],
 "metadata": {
  "kernelspec": {
   "display_name": "Python 3",
   "language": "python",
   "name": "python3"
  },
  "language_info": {
   "codemirror_mode": {
    "name": "ipython",
    "version": 3
   },
   "file_extension": ".py",
   "mimetype": "text/x-python",
   "name": "python",
   "nbconvert_exporter": "python",
   "pygments_lexer": "ipython3",
   "version": "3.11.5"
  }
 },
 "nbformat": 4,
 "nbformat_minor": 5
}
